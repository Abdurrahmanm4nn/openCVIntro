{
 "cells": [
  {
   "cell_type": "markdown",
   "metadata": {},
   "source": [
    "# Intro to OpenCV\n",
    "OpenCV merupakan library computer vision terpopuler di dunia. Dengan library ini, kita dapat melakukan pengolahan gambar seperti menambahkan filter, mengubah colorspace, dan mengenali sesuatu pada gambar seperti tepian, kontur, background, bahkan jenis objek.\n",
    "\n",
    "Untuk kesempatan kali ini kita akan mempelajari cara menggunakan OpenCV untuk membuka data gambar, membuka file video, menggunakan kamera, dan mengenali warna."
   ]
  },
  {
   "cell_type": "code",
   "execution_count": null,
   "metadata": {},
   "outputs": [],
   "source": [
    "# jika belum install opencv, cukup lakukan perintah dibawah\n",
    "# pip install opencv-python\n",
    "\n",
    "# Import library\n",
    "import cv2"
   ]
  },
  {
   "cell_type": "markdown",
   "metadata": {},
   "source": [
    "## Membuka, menampilkan, dan menyimpan gambar\n",
    "Untuk tujuan ini, ada 3 fungsi yang dapat digunakan untuk keperluan ini yaitu :\n",
    "1. imread() untuk membaca file gambar\n",
    "2. imshow() untuk menampilkan gambar ke layar\n",
    "3. imwrite() untuk menyimpan gambar ke suatu direktori file\n",
    "\n",
    "Berikut merupakan cara membuka file gambar dan menampilkannya ke layar :"
   ]
  },
  {
   "cell_type": "code",
   "execution_count": null,
   "metadata": {},
   "outputs": [],
   "source": [
    "# Membuka file gambar. \n",
    "# -1 artinya menampilkan gambar sebagaimana aslinya, \n",
    "# 0 membuka gambar dalam bentuk grayscale, \n",
    "# 1 menampilkan gambar dalam bentuk berwarna\n",
    "img = cv2.imread('example1-1024x682.jpg', -1)\n",
    "img_grayscale = cv2.imread('example1-1024x682.jpg', 0)\n",
    "img_color = cv2.imread('example1-1024x682.jpg', 1)\n",
    "\n",
    "# Menampilkan gambar\n",
    "cv2.imshow('Original Image', img)\n",
    "cv2.imshow('Grayscale Image', img_grayscale)\n",
    "cv2.imshow('Color Image', img_color)\n",
    "\n",
    "# Menunggu ada tombol keyboard yang ditekan untuk menutup window, 0 artinya loop tak berhingga\n",
    "cv2.waitKey(0)\n",
    "\n",
    "# Menghancurkan semua window yang dibuat saat menampilkan gambar\n",
    "cv2.destroyAllWindows()\n",
    "\n",
    "# Menyimpan gambar grayscale\n",
    "cv2.imwrite('grayscale.jpg', img_grayscale)"
   ]
  },
  {
   "cell_type": "markdown",
   "metadata": {},
   "source": [
    "## Membuka, menampilkan, dan menyimpan video\n",
    "Fungsi-fungsi yang dapat digunakan untuk keperluan ini, yaitu :\n",
    "1. cv2.VideoCapture : Untuk membuat objek pengambilan video, yang akan membantu streaming atau menampilkan video.\n",
    "2. cv2.VideoWriter : Menyimpan output video ke dalam direktori file.\n",
    "3. cv2.imshow : Menampilkan tangkapan video ke layar\n",
    "4. get() : Membaca metadata video seperti tinggi frame, lebar frame, fps, dan sebagainya."
   ]
  },
  {
   "cell_type": "markdown",
   "metadata": {},
   "source": [
    "### Membuka dan menampilkan file video\n",
    "Sintaks untuk membaca file video adalah sebagai berikut :\n",
    "```\n",
    "cv2.VideoCapture(path, apiPreference)\n",
    "```\n",
    "\n",
    "Contohnya adalah sebagai berikut :"
   ]
  },
  {
   "cell_type": "code",
   "execution_count": null,
   "metadata": {},
   "outputs": [],
   "source": [
    "# Membuat obyek untuk membaca file video\n",
    "vid_file = cv2.VideoCapture('Resources/Cars.mp4')\n",
    "\n",
    "if (vid_file.isOpened() == False):\n",
    "  print(\"Error opening the video file\")\n",
    "else:\n",
    "  # Membaca informasi frame rate\n",
    "  fps = int(vid_file.get(5))\n",
    "  print(\"Frame Rate : \",fps,\"frames per second\") \n",
    "\n",
    "  # Mendapatkan jumlah frame\n",
    "  frame_count = vid_file.get(7)\n",
    "  print(\"Frame count : \", frame_count)\n",
    "\n",
    "while(vid_file.isOpened()):\n",
    "\n",
    "  # fungsi vCapture.read() mengembalikan tuple, elemen pertamanya adalahh boolean\n",
    "  # dan yang kedua adalah frame\n",
    "\n",
    "  ret, frame = vid_file.read()\n",
    "  if ret == True:\n",
    "    cv2.imshow('Frame',frame)\n",
    "    k = cv2.waitKey(20)\n",
    "    # 113 merupakan kode ASCII untuk tombol q\n",
    "    # jika user tekan q, maka window close\n",
    "    if k == 113:\n",
    "      break\n",
    "  else:\n",
    "    break\n",
    "\n",
    "# Release objek\n",
    "vid_file.release()\n",
    "\n",
    "cv2.destroyAllWindows()"
   ]
  },
  {
   "cell_type": "markdown",
   "metadata": {},
   "source": [
    "### Mengambil video dari kamera dan menampilkannya ke layar\n",
    "Rather than specifying a source location for a video file or an image sequence, you simply need to give a video capture device index, as shown below. \n",
    "- If your system has a built-in webcam, then the device index for the camera will be ‘0’. \n",
    "- If you have more than one camera connected to your system, then the device index associated with each additional camera is incremented (e.g. 1, 2, etc).\n",
    "\n",
    "Contoh implementasinya adalah sebagai berikut :"
   ]
  },
  {
   "cell_type": "code",
   "execution_count": null,
   "metadata": {},
   "outputs": [],
   "source": [
    "# Mengambil gambar dari kamera bawaan device\n",
    "# CAP_DSHOW merupakan argumen opsional, yang merupakan salah satu API Preference\n",
    "# yang merupakan kependekan dari directshow via video input\n",
    "vid_capture = cv2.VideoCapture(0, cv2.CAP_DSHOW)\n",
    "\n",
    "if (vid_capture.isOpened() == False):\n",
    "  print(\"Error opening the video file\")\n",
    "else:\n",
    "  # Membaca informasi frame rate\n",
    "  fps = int(vid_capture.get(5))\n",
    "  print(\"Frame Rate : \",fps,\"frames per second\") \n",
    "  \n",
    "  # Mendapatkan jumlah frame\n",
    "  frame_count = vid_capture.get(7)\n",
    "  print(\"Frame count : \", frame_count)\n",
    "\n",
    "while(vid_capture.isOpened()):\n",
    "  # fungsi vCapture.read() mengembalikan tuple, elemen pertamanya adalahh boolean\n",
    "  # dan yang kedua adalah frame\n",
    "  ret, frame = vid_capture.read()\n",
    "  if ret == True:\n",
    "    cv2.imshow('Frame',frame)\n",
    "    k = cv2.waitKey(20)\n",
    "    # 113 merupakan kode ASCII untuk tombol q\n",
    "    # jika user tekan q, maka window close\n",
    "    if k == 113:\n",
    "      break\n",
    "  else:\n",
    "    break\n",
    "\n",
    "# Release objek\n",
    "vid_capture.release()\n",
    "\n",
    "cv2.destroyAllWindows()"
   ]
  },
  {
   "cell_type": "markdown",
   "metadata": {},
   "source": [
    "## Mengenali warna\n",
    "Berikut merupakan beberapa fungsi penting OpenCV yang biasa digunakan untuk pengolahan citra dalam robotika:\n",
    "1. cv2.cvtColor() untuk mengubah colorspace gambar\n",
    "2. cv2.inRange() untuk tresholding citra pada range warna tertentu\n",
    "3. cv2.findContours() untuk mencari contour dari gambar\n",
    "\n",
    "### Colorspace\n",
    "RGB, HSV dan CMYK adalah contoh color space, sederhananya color space adalah cara untuk mempresentasikan warna. CMYK umum digunakan untuk industri printing, sementara RGB dan HSV untuk media digital.\n",
    "\n",
    "RGB adalah model color dengan cara menggabungkan warna Red, Green dan Blue. Perlu diperhatikan, OpenCV menyimpan warna dalam urutan BGR.\n",
    "\n",
    "### HSV\n",
    "Adalah Hue, Saturation dan Value, dimana:\n",
    "- Hue: menunjukan warna itu sendiri. Range (0 – 179).\n",
    "- Saturation: Intensitas warna. Makin tinggi saturasi, makin rendah warna putih. Range (0 -255).\n",
    "- Value: Kecerahan. Makin tinggi value, makin cerah, makin rendah makin gelap. Range (0 -255).\n",
    "\n",
    "NOTE: HSV memudahkan segmentasi warna. Mode RGB, sulit untuk melakukan filtering warna tertentu.\n",
    "\n",
    "Berikut merupakan implementasi kode pengenalan warna :"
   ]
  },
  {
   "cell_type": "code",
   "execution_count": null,
   "metadata": {},
   "outputs": [],
   "source": [
    "import numpy as np\n",
    "\n",
    "ori = cv2.imread(\"color.png\")\n",
    "cv2.imshow(\"Original\", ori)\n",
    "\n",
    "# Ubah colorspace gambar dari BGR ke HSV\n",
    "converted = cv2.cvtColor(ori, cv2.COLOR_BGR2HSV)\n",
    "\n",
    "# Contoh ingin mendeteksi warna biru\n",
    "# maka pertama kita akan mencari threshold untuk warna biru\n",
    "lowColor = np.array([100, 10, 10])\n",
    "highColor = np.array([120, 255, 255])\n",
    "\n",
    "#Buat masking dengan rentang warna yang akan dideteksi\n",
    "masking = cv2.inRange(converted, lowColor, highColor)\n",
    "\n",
    "#Erosi untuk menghilangkan noise pada gambar\n",
    "masking = cv2.erode(masking, None, iterations=1)\n",
    "\n",
    "#Cari Contours\n",
    "contours, hierarchy = cv2.findContours(masking, cv2.RETR_EXTERNAL, cv2.CHAIN_APPROX_NONE)\n",
    "print(len(contours))\n",
    "\n",
    "#Hitung area contours\n",
    "print(cv2.contourArea(contours[0]))\n",
    "\n",
    "#Gambarkan contours\n",
    "imgx = cv2.drawContours(ori, contours, -1, (0, 255, 0), 3)\n",
    "\n",
    "# Cari centroid setiap contour\n",
    "for c in contours :\n",
    "    M = cv2.moments(c)\n",
    "    cx = int(M['m10']/M['m00'])\n",
    "    cy = int(M['m01']/M['m00'])\n",
    "    print(\"Centroid : (%s, %s)\" %(cx, cy))\n",
    "    cv2.circle(imgx, (cx, cy), 5, (0, 0, 255), -1)\n",
    "\n",
    "# Tampilkan hasil deteksi\n",
    "cv2.imshow(\"Hasil deteksi\", imgx)\n",
    "\n",
    "cv2.waitKey(0)\n",
    "cv2.destroyAllWindows()"
   ]
  },
  {
   "cell_type": "markdown",
   "metadata": {},
   "source": [
    "## Referensi\n",
    "1. https://learnopencv.com/getting-started-with-opencv/\n",
    "2. https://opencv.org/opencv-free-course/"
   ]
  }
 ],
 "metadata": {
  "kernelspec": {
   "display_name": "Python 3 (ipykernel)",
   "language": "python",
   "name": "python3"
  },
  "language_info": {
   "codemirror_mode": {
    "name": "ipython",
    "version": 3
   },
   "file_extension": ".py",
   "mimetype": "text/x-python",
   "name": "python",
   "nbconvert_exporter": "python",
   "pygments_lexer": "ipython3",
   "version": "3.9.13"
  },
  "vscode": {
   "interpreter": {
    "hash": "5e614529c00cdc88bb331a96e493634bfe7369685f78a57a0823bb629d068bd1"
   }
  }
 },
 "nbformat": 4,
 "nbformat_minor": 2
}
